{
 "cells": [
  {
   "cell_type": "code",
   "execution_count": 2,
   "metadata": {},
   "outputs": [],
   "source": [
    "import os\n",
    "import librosa\n",
    "import numpy as np\n",
    "\n",
    "data_dir = './Dataset 2/s1' \n",
    "\n",
    "def teo_feature(signal):\n",
    "    teo_values = signal[1:-1] ** 2 - signal[:-2] * signal[2:]\n",
    "    return teo_values\n",
    "\n",
    "for filename in os.listdir(data_dir):\n",
    "    if filename.endswith('.wav'): \n",
    "        audio_file_path = os.path.join(data_dir, filename)\n",
    "        \n",
    "        audio_signal, sample_rate = librosa.load(audio_file_path)\n",
    "        \n",
    "        teo_values = teo_feature(audio_signal)\n",
    "\n",
    "        output_directory = 'TEO'\n",
    "        \n",
    "        os.makedirs(output_directory, exist_ok=True)\n",
    "        \n",
    "        output_file_path = os.path.join(output_directory, filename.replace('.wav', '_teo.py'))\n",
    "        \n",
    "        np.save(output_file_path, teo_values)\n"
   ]
  }
 ],
 "metadata": {
  "kernelspec": {
   "display_name": "env",
   "language": "python",
   "name": "python3"
  },
  "language_info": {
   "codemirror_mode": {
    "name": "ipython",
    "version": 3
   },
   "file_extension": ".py",
   "mimetype": "text/x-python",
   "name": "python",
   "nbconvert_exporter": "python",
   "pygments_lexer": "ipython3",
   "version": "3.10.11"
  }
 },
 "nbformat": 4,
 "nbformat_minor": 5
}
