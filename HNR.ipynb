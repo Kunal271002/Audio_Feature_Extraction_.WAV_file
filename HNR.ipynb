{
 "cells": [
  {
   "cell_type": "code",
   "execution_count": 2,
   "id": "c44ebab1",
   "metadata": {},
   "outputs": [
    {
     "name": "stdout",
     "output_type": "stream",
     "text": [
      "3.361071e-07\n"
     ]
    }
   ],
   "source": [
    "import os\n",
    "import numpy as np\n",
    "import librosa\n",
    "\n",
    "\n",
    "data_directory = './Dataset 2/s1'\n",
    "\n",
    "hnr_values = []\n",
    "file_names = []\n",
    "\n",
    "for root, dirs, files in os.walk(data_directory):\n",
    "    for file in files:\n",
    "        if file.endswith('.wav'):\n",
    "            file_path = os.path.join(root, file)\n",
    "\n",
    "            audio_data, sample_rate = librosa.load(file_path, sr=None)\n",
    "            harmonicity, percussive = librosa.effects.hpss(audio_data)\n",
    "            hnr_value = np.mean(harmonicity)\n",
    "            hnr_values.append(hnr_value)\n",
    "            file_names.append(file)\n",
    "hnr_values = np.array(hnr_values)\n",
    "file_names = np.array(file_names)\n",
    "print(hnr_value)"
   ]
  }
 ],
 "metadata": {
  "kernelspec": {
   "display_name": "env",
   "language": "python",
   "name": "python3"
  },
  "language_info": {
   "codemirror_mode": {
    "name": "ipython",
    "version": 3
   },
   "file_extension": ".py",
   "mimetype": "text/x-python",
   "name": "python",
   "nbconvert_exporter": "python",
   "pygments_lexer": "ipython3",
   "version": "3.10.11"
  }
 },
 "nbformat": 4,
 "nbformat_minor": 5
}
