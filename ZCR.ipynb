{
 "cells": [
  {
   "cell_type": "code",
   "execution_count": 1,
   "metadata": {},
   "outputs": [],
   "source": [
    "import os\n",
    "import librosa\n",
    "import numpy as np\n",
    "import pandas as pd\n",
    "\n",
    "def extract_zcr(audio_file_path):\n",
    "    audio_signal, sample_rate = librosa.load(audio_file_path)\n",
    "    \n",
    "    zcr = np.mean(librosa.feature.zero_crossing_rate(audio_signal))\n",
    "    return zcr\n",
    "\n",
    "data_dir = './Dataset 2/s1'\n",
    "\n",
    "zcr_data = []\n",
    "\n",
    "for filename in os.listdir(data_dir):\n",
    "    if filename.endswith('.wav'): \n",
    "        audio_file_path = os.path.join(data_dir, filename)\n",
    "        \n",
    "        zcr_value = extract_zcr(audio_file_path)\n",
    "    \n",
    "        zcr_data.append({'File': filename, 'ZCR': zcr_value})\n",
    "df = pd.DataFrame(zcr_data)\n",
    "output_csv = 'zcr_features.csv'\n",
    "df.to_csv(output_csv, index=False)\n"
   ]
  }
 ],
 "metadata": {
  "kernelspec": {
   "display_name": "env",
   "language": "python",
   "name": "python3"
  },
  "language_info": {
   "codemirror_mode": {
    "name": "ipython",
    "version": 3
   },
   "file_extension": ".py",
   "mimetype": "text/x-python",
   "name": "python",
   "nbconvert_exporter": "python",
   "pygments_lexer": "ipython3",
   "version": "3.10.11"
  }
 },
 "nbformat": 4,
 "nbformat_minor": 5
}
